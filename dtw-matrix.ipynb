{
 "cells": [
  {
   "cell_type": "code",
   "execution_count": 78,
   "id": "225d84a3",
   "metadata": {},
   "outputs": [],
   "source": [
    "import numpy as np\n",
    "distance = np.load('distance_ALMI_800+164_not_random_dtw_matrix.npy')\n",
    "y_data = np.load('y_data_ALMI_800+164_not_random_dtw_matrix.npy')"
   ]
  },
  {
   "cell_type": "code",
   "execution_count": 79,
   "id": "86dc89a9",
   "metadata": {},
   "outputs": [
    {
     "name": "stdout",
     "output_type": "stream",
     "text": [
      "(964, 12, 12, 1)\n"
     ]
    }
   ],
   "source": [
    "t = np.array(distance).reshape(distance.shape[0],12,12,1)\n",
    "print(t.shape)"
   ]
  },
  {
   "cell_type": "code",
   "execution_count": 107,
   "id": "3bf7e090",
   "metadata": {},
   "outputs": [],
   "source": [
    "t = np.concatenate((t[:300],t[800:]),axis=0)\n",
    "y_data = np.concatenate((y_data[:300],y_data[800:]),axis=0)"
   ]
  },
  {
   "cell_type": "code",
   "execution_count": 108,
   "id": "8e91b8ed",
   "metadata": {},
   "outputs": [],
   "source": [
    "from sklearn.model_selection import train_test_split, cross_val_score\n",
    "from sklearn.ensemble import RandomForestClassifier\n",
    "from sklearn.preprocessing import scale\n",
    "from tensorflow.keras.layers import Flatten, Activation\n",
    "from tensorflow.keras.models import Sequential\n",
    "from tensorflow.keras.layers import Dense\n",
    "import tensorflow.keras.backend as K\n",
    "from tensorflow.keras.layers import Conv2D\n",
    "from tensorflow.keras.layers import MaxPool2D, AvgPool2D"
   ]
  },
  {
   "cell_type": "code",
   "execution_count": 109,
   "id": "e95e14cd",
   "metadata": {},
   "outputs": [
    {
     "data": {
      "text/plain": [
       "array([0, 0, 0, 0, 0, 0, 0, 0, 0, 0, 0, 0, 0, 0, 0, 0, 0, 0, 0, 0, 0, 0,\n",
       "       0, 0, 0, 0, 0, 0, 0, 0, 0, 0, 0, 0, 0, 0, 0, 0, 0, 0, 0, 0, 0, 0,\n",
       "       0, 0, 0, 0, 0, 0])"
      ]
     },
     "execution_count": 109,
     "metadata": {},
     "output_type": "execute_result"
    }
   ],
   "source": [
    "y_train2[0:50]"
   ]
  },
  {
   "cell_type": "code",
   "execution_count": 121,
   "id": "b20abaa9",
   "metadata": {},
   "outputs": [
    {
     "name": "stdout",
     "output_type": "stream",
     "text": [
      "Model: \"sequential\"\n",
      "_________________________________________________________________\n",
      " Layer (type)                Output Shape              Param #   \n",
      "=================================================================\n",
      " conv2d (Conv2D)             (None, 10, 10, 10)        100       \n",
      "                                                                 \n",
      " max_pooling2d (MaxPooling2D  (None, 5, 5, 10)         0         \n",
      " )                                                               \n",
      "                                                                 \n",
      " flatten (Flatten)           (None, 250)               0         \n",
      "                                                                 \n",
      " dense (Dense)               (None, 256)               64256     \n",
      "                                                                 \n",
      " dense_1 (Dense)             (None, 10)                2570      \n",
      "                                                                 \n",
      " dense_2 (Dense)             (None, 1)                 11        \n",
      "                                                                 \n",
      "=================================================================\n",
      "Total params: 66,937\n",
      "Trainable params: 66,937\n",
      "Non-trainable params: 0\n",
      "_________________________________________________________________\n",
      "Epoch 1/25\n",
      "9/9 [==============================] - 1s 15ms/step - loss: 0.8307 - accuracy: 0.6743 - val_loss: 0.4394 - val_accuracy: 0.7816\n",
      "Epoch 2/25\n",
      "9/9 [==============================] - 0s 4ms/step - loss: 0.4202 - accuracy: 0.8161 - val_loss: 0.3455 - val_accuracy: 0.8391\n",
      "Epoch 3/25\n",
      "9/9 [==============================] - 0s 4ms/step - loss: 0.3216 - accuracy: 0.8429 - val_loss: 0.5537 - val_accuracy: 0.8046\n",
      "Epoch 4/25\n",
      "9/9 [==============================] - 0s 4ms/step - loss: 0.3182 - accuracy: 0.8506 - val_loss: 0.3165 - val_accuracy: 0.8621\n",
      "Epoch 5/25\n",
      "9/9 [==============================] - 0s 4ms/step - loss: 0.2651 - accuracy: 0.8736 - val_loss: 0.3516 - val_accuracy: 0.8161\n",
      "Epoch 6/25\n",
      "9/9 [==============================] - 0s 4ms/step - loss: 0.2551 - accuracy: 0.8812 - val_loss: 0.2641 - val_accuracy: 0.8851\n",
      "Epoch 7/25\n",
      "9/9 [==============================] - 0s 4ms/step - loss: 0.2868 - accuracy: 0.8659 - val_loss: 0.3136 - val_accuracy: 0.8736\n",
      "Epoch 8/25\n",
      "9/9 [==============================] - 0s 4ms/step - loss: 0.3368 - accuracy: 0.8352 - val_loss: 0.4977 - val_accuracy: 0.8046\n",
      "Epoch 9/25\n",
      "9/9 [==============================] - 0s 4ms/step - loss: 0.3186 - accuracy: 0.8621 - val_loss: 0.2803 - val_accuracy: 0.8736\n",
      "Epoch 10/25\n",
      "9/9 [==============================] - 0s 4ms/step - loss: 0.2806 - accuracy: 0.8736 - val_loss: 0.3424 - val_accuracy: 0.8621\n",
      "Epoch 11/25\n",
      "9/9 [==============================] - 0s 4ms/step - loss: 0.2407 - accuracy: 0.8889 - val_loss: 0.2628 - val_accuracy: 0.8966\n",
      "Epoch 12/25\n",
      "9/9 [==============================] - 0s 4ms/step - loss: 0.2192 - accuracy: 0.9080 - val_loss: 0.2891 - val_accuracy: 0.8736\n",
      "Epoch 13/25\n",
      "9/9 [==============================] - 0s 4ms/step - loss: 0.2171 - accuracy: 0.8966 - val_loss: 0.2455 - val_accuracy: 0.8851\n",
      "Epoch 14/25\n",
      "9/9 [==============================] - 0s 4ms/step - loss: 0.1959 - accuracy: 0.9042 - val_loss: 0.2422 - val_accuracy: 0.8966\n",
      "Epoch 15/25\n",
      "9/9 [==============================] - 0s 4ms/step - loss: 0.1900 - accuracy: 0.9080 - val_loss: 0.2420 - val_accuracy: 0.8966\n",
      "Epoch 16/25\n",
      "9/9 [==============================] - 0s 4ms/step - loss: 0.1926 - accuracy: 0.9119 - val_loss: 0.2266 - val_accuracy: 0.9080\n",
      "Epoch 17/25\n",
      "9/9 [==============================] - 0s 4ms/step - loss: 0.1864 - accuracy: 0.9234 - val_loss: 0.2843 - val_accuracy: 0.8851\n",
      "Epoch 18/25\n",
      "9/9 [==============================] - 0s 4ms/step - loss: 0.2031 - accuracy: 0.9042 - val_loss: 0.2376 - val_accuracy: 0.8966\n",
      "Epoch 19/25\n",
      "9/9 [==============================] - 0s 4ms/step - loss: 0.1739 - accuracy: 0.9272 - val_loss: 0.2686 - val_accuracy: 0.8851\n",
      "Epoch 20/25\n",
      "9/9 [==============================] - 0s 4ms/step - loss: 0.1797 - accuracy: 0.9157 - val_loss: 0.2247 - val_accuracy: 0.8966\n",
      "Epoch 21/25\n",
      "9/9 [==============================] - 0s 4ms/step - loss: 0.1922 - accuracy: 0.9195 - val_loss: 0.2503 - val_accuracy: 0.8851\n",
      "Epoch 22/25\n",
      "9/9 [==============================] - 0s 4ms/step - loss: 0.1575 - accuracy: 0.9425 - val_loss: 0.2230 - val_accuracy: 0.9195\n",
      "Epoch 23/25\n",
      "9/9 [==============================] - 0s 4ms/step - loss: 0.1506 - accuracy: 0.9540 - val_loss: 0.2540 - val_accuracy: 0.8851\n",
      "Epoch 24/25\n",
      "9/9 [==============================] - 0s 4ms/step - loss: 0.1481 - accuracy: 0.9387 - val_loss: 0.2280 - val_accuracy: 0.9080\n",
      "Epoch 25/25\n",
      "9/9 [==============================] - 0s 4ms/step - loss: 0.1386 - accuracy: 0.9579 - val_loss: 0.2274 - val_accuracy: 0.8966\n",
      "4/4 [==============================] - 0s 1ms/step - loss: 0.1982 - accuracy: 0.9397\n"
     ]
    },
    {
     "data": {
      "text/plain": [
       "[0.19821998476982117, 0.9396551847457886]"
      ]
     },
     "execution_count": 121,
     "metadata": {},
     "output_type": "execute_result"
    }
   ],
   "source": [
    "X_train1, X_test1, y_train1, y_test1 = train_test_split(t[:300,:,:,:], y_data[:300],\n",
    "                                                        test_size=0.25,\n",
    "                                                     random_state=42)\n",
    "\n",
    "X_train2, X_test2, y_train2, y_test2 = train_test_split(t[300:,:,:,:], y_data[300:],\n",
    "                                                        test_size=0.25,\n",
    "                                                     random_state=42)\n",
    "                                                        \n",
    "X_train = np.concatenate((X_train1, X_train2), axis=0)\n",
    "X_test = np.concatenate((X_test1, X_test2), axis=0)\n",
    "y_train = np.concatenate((y_train1, y_train2), axis=0)\n",
    "y_test = np.concatenate((y_test1, y_test2), axis=0)\n",
    "\n",
    "np.random.seed(42)\n",
    "train_indices = np.random.permutation(len(X_train))\n",
    "X_train = X_train[train_indices]\n",
    "y_train = y_train[train_indices]\n",
    "\n",
    "test_indices = np.random.permutation(len(X_test))\n",
    "X_test = X_test[test_indices]\n",
    "y_test = y_test[test_indices]\n",
    "\n",
    "\n",
    "K.clear_session()\n",
    "\n",
    "\n",
    "model = Sequential()\n",
    "\n",
    "model.add(Conv2D(10, (3, 3), input_shape=(12, 12, 1)))\n",
    "model.add(MaxPool2D(pool_size=(2, 2)))\n",
    "model.add(Flatten())\n",
    "\n",
    "# model.add(Dense(1024, activation='relu'))\n",
    "# model.add(Dense(512, activation='relu'))\n",
    "model.add(Dense(256, activation='relu'))\n",
    "model.add(Dense(10, activation='relu'))\n",
    "model.add(Dense(1, activation='sigmoid'))\n",
    "\n",
    "model.compile(loss='BinaryCrossentropy',\n",
    "              optimizer='adam',\n",
    "              metrics=['accuracy'])\n",
    "\n",
    "model.summary()\n",
    "\n",
    "model.fit(X_train, y_train, batch_size=32,\n",
    "          epochs=25, verbose=1, validation_split=0.25)\n",
    "model.evaluate(X_test, y_test)\n",
    "\n",
    "\n"
   ]
  },
  {
   "cell_type": "code",
   "execution_count": 112,
   "id": "03aa20be",
   "metadata": {},
   "outputs": [],
   "source": [
    "# X_train, X_test, y_train, y_test = train_test_split(t, y_data,\n",
    "#                                                     test_size=0.25,\n",
    "#                                                     random_state=42)\n",
    "\n",
    "# K.clear_session()\n",
    "\n",
    "\n",
    "# model = Sequential()\n",
    "\n",
    "# model.add(Conv2D(10, (3, 3), input_shape=(12, 12, 1)))\n",
    "# model.add(MaxPool2D(pool_size=(2, 2)))\n",
    "# model.add(Flatten())\n",
    "\n",
    "# model.add(Dense(1024, activation='relu'))\n",
    "# # model.add(Dense(512, activation='relu'))\n",
    "# model.add(Dense(256, activation='relu'))\n",
    "# model.add(Dense(10, activation='relu'))\n",
    "# model.add(Dense(1, activation='sigmoid'))\n",
    "\n",
    "# model.compile(loss='BinaryCrossentropy',\n",
    "#               optimizer='adam',\n",
    "#               metrics=['accuracy'])\n",
    "\n",
    "# model.summary()\n",
    "\n",
    "# model.fit(X_train, y_train, batch_size=16,\n",
    "#           epochs=25, verbose=1, validation_split=0.25)\n",
    "# model.evaluate(X_test, y_test)\n",
    "\n"
   ]
  },
  {
   "cell_type": "code",
   "execution_count": 68,
   "id": "b4592307",
   "metadata": {},
   "outputs": [],
   "source": [
    "# xt = np.load(r\"D:\\Internship\\ptb-diagnostic-ecg-database-1.0.0\\Old Rocket\\xt_ALMI_800+164_kernels10000.npy\")\n",
    "# ynew = np.load(r\"D:\\Internship\\ptb-diagnostic-ecg-database-1.0.0\\Old Rocket\\ynew_ALMI_800+164_kernels10000.npy\")\n",
    "# patient_ids = np.load(r\"D:\\Internship\\ptb-diagnostic-ecg-database-1.0.0\\Old Rocket\\patient_id_ALMI_800+164_kernels10000.npy\")"
   ]
  },
  {
   "cell_type": "code",
   "execution_count": 76,
   "id": "fa8d3018",
   "metadata": {},
   "outputs": [],
   "source": [
    "xt = np.load(r\"D:\\Internship\\ptb-diagnostic-ecg-database-1.0.0\\Old Rocket\\xt_ALMI_800+164_kernels5000.npy\")\n",
    "ynew = np.load(r\"D:\\Internship\\ptb-diagnostic-ecg-database-1.0.0\\Old Rocket\\ynew_ALMI_800+164_kernels5000.npy\")\n",
    "patient_ids = np.load(r\"D:\\Internship\\ptb-diagnostic-ecg-database-1.0.0\\Old Rocket\\patient_id_ALMI_800+164_kernels5000.npy\")"
   ]
  },
  {
   "cell_type": "code",
   "execution_count": 69,
   "id": "e8b944b2",
   "metadata": {},
   "outputs": [],
   "source": [
    "distance = np.load('distance_ALMI_800+164_not_random_windowed_dtw_matrix.npy')\n",
    "y_data = np.load('y_data_ALMI_800+164_not_random_windowed_dtw_matrix.npy')"
   ]
  },
  {
   "cell_type": "code",
   "execution_count": 70,
   "id": "4fda55e0",
   "metadata": {},
   "outputs": [
    {
     "name": "stdout",
     "output_type": "stream",
     "text": [
      "(4820, 78)\n"
     ]
    }
   ],
   "source": [
    "def extract_upper_triangular(matrix):\n",
    "    n = len(matrix)\n",
    "    upper_triangular_array = []\n",
    "\n",
    "    for i in range(n):\n",
    "        for j in range(i, n):\n",
    "            upper_triangular_array.append(matrix[i][j])\n",
    "\n",
    "    return upper_triangular_array\n",
    "\n",
    "def concatenate_upper_triangular_vectors(matrix1, matrix2, matrix3, matrix4):\n",
    "    vector1 = extract_upper_triangular(matrix1)\n",
    "    vector2 = extract_upper_triangular(matrix2)\n",
    "    vector3 = extract_upper_triangular(matrix3)\n",
    "    vector4 = extract_upper_triangular(matrix4)\n",
    "\n",
    "    concatenated_vector = vector1 + vector2 + vector3 + vector4\n",
    "    return concatenated_vector\n",
    "\n",
    "t2=[]\n",
    "for i in range(distance.shape[0]):\n",
    "    K_i = extract_upper_triangular(distance[i])\n",
    "    t2.append(K_i)\n",
    "t2 = np.array(t2)\n",
    "print(t2.shape)"
   ]
  },
  {
   "cell_type": "code",
   "execution_count": 71,
   "id": "2a879e58",
   "metadata": {},
   "outputs": [
    {
     "data": {
      "text/plain": [
       "(4820, 20000)"
      ]
     },
     "execution_count": 71,
     "metadata": {},
     "output_type": "execute_result"
    }
   ],
   "source": [
    "xt.shape"
   ]
  },
  {
   "cell_type": "code",
   "execution_count": 72,
   "id": "0c7e36ac",
   "metadata": {},
   "outputs": [],
   "source": [
    "x_all = np.zeros((xt.shape[0],xt.shape[1]+78))\n",
    "# k = //5\n",
    "for i in range(xt.shape[0]):  \n",
    "    x_all[i] = np.concatenate((xt[i], t2[i]), axis=0)"
   ]
  },
  {
   "cell_type": "code",
   "execution_count": 73,
   "id": "0d3a854a",
   "metadata": {},
   "outputs": [],
   "source": [
    "xt = x_all"
   ]
  },
  {
   "cell_type": "code",
   "execution_count": 74,
   "id": "b09f8f82",
   "metadata": {},
   "outputs": [
    {
     "data": {
      "text/plain": [
       "(4820, 20078)"
      ]
     },
     "execution_count": 74,
     "metadata": {},
     "output_type": "execute_result"
    }
   ],
   "source": [
    "xt.shape"
   ]
  },
  {
   "cell_type": "code",
   "execution_count": 77,
   "id": "2d87fb07",
   "metadata": {},
   "outputs": [
    {
     "name": "stdout",
     "output_type": "stream",
     "text": [
      "[[ 26   7]\n",
      " [  3 157]]\n",
      "Accuracy: 0.9481865284974094\n",
      "[[ 28   4]\n",
      " [  3 158]]\n",
      "Accuracy: 0.9637305699481865\n",
      "[[ 28   4]\n",
      " [  2 159]]\n",
      "Accuracy: 0.9689119170984456\n",
      "[[ 29   5]\n",
      " [  0 159]]\n",
      "Accuracy: 0.9740932642487047\n",
      "[[ 30   3]\n",
      " [  6 154]]\n",
      "Accuracy: 0.9533678756476683\n",
      "Average Accuracy: 0.9616580310880829\n",
      "[[ 28   5]\n",
      " [  4 156]]\n",
      "Accuracy: 0.9533678756476683\n",
      "[[ 28   4]\n",
      " [  0 161]]\n",
      "Accuracy: 0.9792746113989638\n",
      "[[ 25   7]\n",
      " [  0 161]]\n",
      "Accuracy: 0.9637305699481865\n",
      "[[ 32   2]\n",
      " [  2 157]]\n",
      "Accuracy: 0.9792746113989638\n",
      "[[ 31   2]\n",
      " [  4 156]]\n",
      "Accuracy: 0.9689119170984456\n",
      "Average Accuracy: 0.9689119170984457\n",
      "[[ 25   8]\n",
      " [  2 158]]\n",
      "Accuracy: 0.9481865284974094\n",
      "[[ 28   4]\n",
      " [  1 160]]\n",
      "Accuracy: 0.9740932642487047\n",
      "[[ 26   6]\n",
      " [  0 161]]\n",
      "Accuracy: 0.9689119170984456\n",
      "[[ 31   3]\n",
      " [  0 159]]\n",
      "Accuracy: 0.9844559585492227\n",
      "[[ 30   3]\n",
      " [  0 160]]\n",
      "Accuracy: 0.9844559585492227\n",
      "Average Accuracy: 0.972020725388601\n",
      "[[ 25   8]\n",
      " [  2 158]]\n",
      "Accuracy: 0.9481865284974094\n",
      "[[ 29   3]\n",
      " [  2 159]]\n",
      "Accuracy: 0.9740932642487047\n",
      "[[ 27   5]\n",
      " [  0 161]]\n",
      "Accuracy: 0.9740932642487047\n",
      "[[ 29   5]\n",
      " [  0 159]]\n",
      "Accuracy: 0.9740932642487047\n",
      "[[ 30   3]\n",
      " [  1 159]]\n",
      "Accuracy: 0.9792746113989638\n",
      "Average Accuracy: 0.9699481865284975\n",
      "[[ 27   6]\n",
      " [  3 156]]\n",
      "Accuracy: 0.953125\n",
      "[[ 28   4]\n",
      " [  3 157]]\n",
      "Accuracy: 0.9635416666666666\n",
      "[[ 28   4]\n",
      " [  1 159]]\n",
      "Accuracy: 0.9739583333333334\n",
      "[[ 29   5]\n",
      " [  1 157]]\n",
      "Accuracy: 0.96875\n",
      "[[ 30   3]\n",
      " [  2 157]]\n",
      "Accuracy: 0.9739583333333334\n",
      "Average Accuracy: 0.9666666666666666\n"
     ]
    }
   ],
   "source": [
    "window = 5\n",
    "unhealthy = 164\n",
    "folds = 5\n",
    "\n",
    "unhealthy_x = xt[:unhealthy*window]\n",
    "healthy_x = xt[unhealthy*window:]\n",
    "unhealthy_y = ynew[:unhealthy*window]\n",
    "healthy_y = ynew[unhealthy*window:]\n",
    "\n",
    "from sklearn.metrics import accuracy_score, confusion_matrix, precision_score, recall_score, f1_score\n",
    "from sklearn.model_selection import GroupKFold\n",
    "from sklearn.linear_model import SGDClassifier\n",
    "import numpy as np\n",
    "\n",
    "gkf1 = GroupKFold(n_splits=folds)\n",
    "gkf2 = GroupKFold(n_splits=folds)\n",
    "\n",
    "sum_accuracy = 0\n",
    "sum_sensitivity = 0\n",
    "sum_specificity = 0\n",
    "sum_f1 = 0\n",
    "\n",
    "# for train_idx1, test_idx1,train_idx2, test_idx2  in gkf1.split(xt[:800*5], ynew[:800*5], groups=patient_ids[:800*5]),gkf2.split(xt[800*5:], ynew[800*5:], groups=patient_ids[800*5:]):\n",
    "for train_idx1, test_idx1  in gkf1.split(xt[:unhealthy*window], ynew[:unhealthy*window], groups=patient_ids[:unhealthy*window]):\n",
    "    sum_accuracy = 0\n",
    "    X_train1, X_test1 = xt[train_idx1], xt[test_idx1]\n",
    "    y_train1, y_test1 = ynew[train_idx1], ynew[test_idx1]\n",
    "\n",
    "    for train_idx2, test_idx2  in gkf2.split(xt[unhealthy*window:], ynew[unhealthy*window:], groups=patient_ids[unhealthy*window:]):\n",
    "        X_train2, X_test2 = healthy_x[train_idx2], healthy_x[test_idx2]\n",
    "        y_train2, y_test2 = healthy_y[train_idx2], healthy_y[test_idx2]\n",
    "\n",
    "        X_train = np.concatenate((X_train1, X_train2), axis=0) \n",
    "        X_test = np.concatenate((X_test1, X_test2), axis=0) \n",
    "\n",
    "        y_train = np.concatenate((y_train1, y_train2), axis=0) \n",
    "        y_test = np.concatenate((y_test1, y_test2), axis=0)\n",
    "        \n",
    "    # for train_idx, test_idx in gkf.split(xt, ynew, groups=patient_ids):\n",
    "    #     X_train, X_test = xt.iloc[train_idx], xt.iloc[test_idx]\n",
    "    #     y_train, y_test = ynew[train_idx], ynew[test_idx]\n",
    "\n",
    "        classifier = SGDClassifier()\n",
    "        classifier.fit(X_train, y_train)\n",
    "\n",
    "        y_pred = classifier.predict(X_test)\n",
    "        \n",
    "        y_pred_majority = []\n",
    "        for i in range(0, y_pred.shape[0], window):\n",
    "            majority_vote = np.bincount(y_pred[i:i+window]).argmax()\n",
    "            y_pred_majority.append(majority_vote)\n",
    "\n",
    "        y_test_majority = []\n",
    "        for i in range(0, y_test.shape[0], window):\n",
    "            majority_vote = np.bincount(y_test[i:i+window]).argmax()\n",
    "            y_test_majority.append(majority_vote)\n",
    "\n",
    "        accuracy = accuracy_score(y_test_majority, y_pred_majority)\n",
    "        sum_accuracy += accuracy\n",
    "\n",
    "    #     tn, fp, fn, tp = confusion_matrix(y_test_majority, y_pred_majority).ravel()\n",
    "\n",
    "    #     sensitivity = tp / (tp + fn)\n",
    "    #     specificity = tn / (tn + fp)\n",
    "    #     f1 = f1_score(y_test_majority, y_pred_majority)\n",
    "\n",
    "    #     sum_sensitivity += sensitivity\n",
    "    #     sum_specificity += specificity\n",
    "    #     sum_f1 += f1\n",
    "\n",
    "        print(confusion_matrix(y_test_majority, y_pred_majority))\n",
    "        print(\"Accuracy:\", accuracy)\n",
    "    #     print(\"Sensitivity:\", sensitivity)\n",
    "    #     print(\"Specificity:\", specificity)\n",
    "    #     print(\"F1-Score:\", f1)\n",
    "    #     print()\n",
    "\n",
    "    average_accuracy = sum_accuracy / folds\n",
    "    # average_sensitivity = sum_sensitivity / 5\n",
    "    # average_specificity = sum_specificity / 5\n",
    "    # average_f1 = sum_f1 / 5\n",
    "\n",
    "    print(\"Average Accuracy:\", average_accuracy)\n",
    "    # print(\"Average Sensitivity:\", average_sensitivity)\n",
    "    # print(\"Average Specificity:\", average_specificity)\n",
    "    # print(\"Average F1-Score:\", average_f1)\n"
   ]
  },
  {
   "cell_type": "code",
   "execution_count": null,
   "id": "add2a4fc",
   "metadata": {},
   "outputs": [],
   "source": []
  }
 ],
 "metadata": {
  "kernelspec": {
   "display_name": "Python 3 (ipykernel)",
   "language": "python",
   "name": "python3"
  },
  "language_info": {
   "codemirror_mode": {
    "name": "ipython",
    "version": 3
   },
   "file_extension": ".py",
   "mimetype": "text/x-python",
   "name": "python",
   "nbconvert_exporter": "python",
   "pygments_lexer": "ipython3",
   "version": "3.10.9"
  }
 },
 "nbformat": 4,
 "nbformat_minor": 5
}
